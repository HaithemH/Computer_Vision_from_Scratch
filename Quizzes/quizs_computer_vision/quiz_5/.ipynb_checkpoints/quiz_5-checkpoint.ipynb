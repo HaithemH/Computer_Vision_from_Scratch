{
 "cells": [
  {
   "cell_type": "markdown",
   "metadata": {},
   "source": [
    "<h2 style=\"text-align: center;\"> Quiz 5 - Research Quiz <h2/>\n",
    "\n",
    "#### Aluno: João Pedro Moreira Ferreira ####\n",
    "\n",
    "**Question:** What is the problem of matching SIFT descriptor by using Euclidean distance?\n",
    "\n",
    "**Answer:** The SIFT descriptor is a vector in a 128-dimensional space. This vector have an orientation and a magnitude, the problem of using euclidean distance to measure the similarity between two vectors is that, if the vectors are not normalized, the magnitude can make two similar vectors (in orientation terms) get a huge diference, causing measure erros. \n",
    "\n",
    "An example could be, two others vectors that have similar magnitude but not similiar orientation will be more similar using the euclidean distance as similarity metric, than vectors with similar orientation but different magnitudes, when the shouldn't be. \n",
    "\n",
    "In other words, the euclidean distance measure both the magnitude and the orientation of the vectors (SIFT descriptors), when a good similarity metric should only measure the orientation of the vectors."
   ]
  }
 ],
 "metadata": {
  "kernelspec": {
   "display_name": "Python 2",
   "language": "python",
   "name": "python2"
  },
  "language_info": {
   "codemirror_mode": {
    "name": "ipython",
    "version": 3
   },
   "file_extension": ".py",
   "mimetype": "text/x-python",
   "name": "python",
   "nbconvert_exporter": "python",
   "pygments_lexer": "ipython3",
   "version": "3.6.7"
  }
 },
 "nbformat": 4,
 "nbformat_minor": 2
}
