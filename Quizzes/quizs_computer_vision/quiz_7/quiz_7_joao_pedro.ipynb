{
 "cells": [
  {
   "cell_type": "markdown",
   "metadata": {},
   "source": [
    "# Quiz 7 - Participating media and stereo vision Tarefa\n",
    "#### João Pedro Moreira Ferreira ####\n"
   ]
  },
  {
   "cell_type": "markdown",
   "metadata": {},
   "source": [
    "Computer Vision algorithms have been designed based on the assumption that the medium between the camera and the scene is immaterial. In several cases this assumption does not hold:\n",
    "foggy, rainy days and underwater environments. Answer the following questions (1 page in total)\n"
   ]
  },
  {
   "cell_type": "markdown",
   "metadata": {},
   "source": [
    "1. What are the problems in scattering media for stereo vision?\n",
    "\n",
    "**Answer** The same problems for monocular vision, the camera models are constructed based on that, the light do not scattered nor absorbed in the medium between the camera, the object and the source of ligth. This modification, in the medium of propagation of the ligth, change the cameras systems and made them blur the image in most ocassions. And because of the estimation error stereo vision aplications, such as 3D reconstrution are often not possible to be made, if the model do not take into account the medium.\n"
   ]
  },
  {
   "cell_type": "markdown",
   "metadata": {},
   "source": [
    "2. Is it possible to solve these problems? How?\n",
    "\n",
    "**Answer** Yes it is possible. To solve these problems, you need more information about the system, you need a calibration, with information about the light source. This information are about the angle of refraction of the light rays from the light source, the direction of the light source emitting the rays, and the distance between the source light and the object."
   ]
  },
  {
   "cell_type": "markdown",
   "metadata": {},
   "source": [
    "[1] MUREZ, Zak et al. Photometric stereo in a scattering medium. In: Proceedings of the IEEE International Conference on Computer Vision. 2015. p. 3415-3423.\n",
    "\n",
    "[2] NARASIMHAN, Srinivasa G. et al. Structured light in scattering media. In: Tenth IEEE International Conference on Computer Vision (ICCV'05) Volume 1. IEEE, 2005. p. 420-427."
   ]
  }
 ],
 "metadata": {
  "kernelspec": {
   "display_name": "Python 3",
   "language": "python",
   "name": "python3"
  },
  "language_info": {
   "codemirror_mode": {
    "name": "ipython",
    "version": 3
   },
   "file_extension": ".py",
   "mimetype": "text/x-python",
   "name": "python",
   "nbconvert_exporter": "python",
   "pygments_lexer": "ipython3",
   "version": "3.6.7"
  }
 },
 "nbformat": 4,
 "nbformat_minor": 2
}
