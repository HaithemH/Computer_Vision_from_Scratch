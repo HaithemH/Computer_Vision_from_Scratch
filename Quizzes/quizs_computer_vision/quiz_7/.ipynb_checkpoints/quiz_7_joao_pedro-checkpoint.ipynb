{
 "cells": [
  {
   "cell_type": "markdown",
   "metadata": {},
   "source": [
    "# Quiz 7 - Participating media and stereo vision Tarefa\n",
    "#### João Pedro Moreira Ferreira"
   ]
  },
  {
   "cell_type": "markdown",
   "metadata": {},
   "source": [
    "Computer Vision algorithms have been designed based on the assumption that the medium between the camera and the scene is immaterial. In several cases this assumption does not hold:\n",
    "foggy, rainy days and underwater environments. Answer the following questions (1 page in total)\n"
   ]
  },
  {
   "cell_type": "markdown",
   "metadata": {},
   "source": [
    "1. What are the problems in scattering media for stereo vision?\n",
    "\n",
    "**Answer** The same problems for monocular vision, the camera models are constructed based on that the light do not scattered nor absorbed in the medium between the camera, the object and the source of ligth. This modification in the propagation of the ligth in the medium, change the cameras systems and made them blur the image in most ocassions. And because of the estimation error stereo vision aplications, such as 3D reconstrution are often not possible, if the model do not take into account the medium.\n"
   ]
  },
  {
   "cell_type": "markdown",
   "metadata": {},
   "source": [
    "2. Is it possible to solve these problems? How?\n",
    "\n",
    "**Answer** "
   ]
  }
 ],
 "metadata": {
  "kernelspec": {
   "display_name": "Python 3",
   "language": "python",
   "name": "python3"
  },
  "language_info": {
   "codemirror_mode": {
    "name": "ipython",
    "version": 3
   },
   "file_extension": ".py",
   "mimetype": "text/x-python",
   "name": "python",
   "nbconvert_exporter": "python",
   "pygments_lexer": "ipython3",
   "version": "3.6.7"
  }
 },
 "nbformat": 4,
 "nbformat_minor": 2
}
