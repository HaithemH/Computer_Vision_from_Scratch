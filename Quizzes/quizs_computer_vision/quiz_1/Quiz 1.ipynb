{
 "cells": [
  {
   "cell_type": "markdown",
   "metadata": {},
   "source": [
    "# Quiz 1"
   ]
  },
  {
   "cell_type": "markdown",
   "metadata": {},
   "source": [
    "**Nome**: João Pedro Moreira Ferreira"
   ]
  },
  {
   "cell_type": "markdown",
   "metadata": {},
   "source": [
    "**Question:** Is it always necessary to sample at least twice as fast as the\n",
    "bandwidth of the signal to accurately reconstruct the\n",
    "waveform?"
   ]
  },
  {
   "cell_type": "markdown",
   "metadata": {},
   "source": [
    "**Answer:** Não é sempre necessário, porque para reconstruir de maneira precisa uma onda genérica utilizando amostras igualmentes esparsas o teorema de Nyquist-Shannon, estabelece uma condição de suficiência (limite inferior), para o número de amostras. Define que para ser possível realizar a reconstrução do sinal original é necessário realizar a amostragem com no minímo duas vezes o valor da maior frequência do sinal. Contudo se as amostras não forem amostradas de maneira igualmente esparsas, é possível realizar a reconstrução do sinal original com menos amostras. Por exemplo, um sinal com frequência baixa em determinado sub-domínio pode poussir menos amostras que um outro sub-domínio com maior frequência da função que mapeia o sinal original. Esse processo chama-se **amostragem adaptativa**. Entretanto se as amostras têm de ser igualmente esparsas o teorema de Nyquist-Shannon define um limite inferior para que seja possível realizar a reconstrução do sinal original com precisão, e a resposta seria sim."
   ]
  }
 ],
 "metadata": {
  "kernelspec": {
   "display_name": "Python 3",
   "language": "python",
   "name": "python3"
  },
  "language_info": {
   "codemirror_mode": {
    "name": "ipython",
    "version": 3
   },
   "file_extension": ".py",
   "mimetype": "text/x-python",
   "name": "python",
   "nbconvert_exporter": "python",
   "pygments_lexer": "ipython3",
   "version": "3.6.7"
  }
 },
 "nbformat": 4,
 "nbformat_minor": 2
}
