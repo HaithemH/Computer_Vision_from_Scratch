{
 "cells": [
  {
   "cell_type": "code",
   "execution_count": 1,
   "metadata": {},
   "outputs": [],
   "source": [
    "import numpy as np\n",
    "\n",
    "import matplotlib.pyplot as plt\n",
    "import matplotlib.image as mpimg\n",
    "\n",
    "import copy"
   ]
  },
  {
   "cell_type": "code",
   "execution_count": 2,
   "metadata": {},
   "outputs": [],
   "source": [
    "def Sampling(initial_img, i, j, for_center=False):\n",
    "    \"\"\"\n",
    "    Uniform Sampling\n",
    "    \n",
    "    Parameters:\n",
    "        initial_img(matrix) - initial unchanged image\n",
    "        i(int) -  i-th index\n",
    "        j(int) - j-th index\n",
    "        \n",
    "    Returns:\n",
    "        list(of floats) - sampled pixel\n",
    "    \"\"\"\n",
    "    \n",
    "    H = initial_img.shape[0]\n",
    "    W = initial_img.shape[1]\n",
    "    if for_center:\n",
    "        return (i/H + 1/(2*H), j/W + 1/(2*W), 1)\n",
    "    return (i/H + 1/(2*H), j/W + 1/(2*W))\n",
    "\n",
    "def Rotation_Matrix(angle):\n",
    "    \"\"\"\n",
    "    Rotation matrix \n",
    "    \n",
    "    Parameters:\n",
    "        angle (angle in radians)\n",
    "        \n",
    "    Returns:\n",
    "        matrix (A_{theta}^{thilda} inverse)\n",
    "    \"\"\"\n",
    "    \n",
    "    A_theta = np.array(\n",
    "        [\n",
    "            [np.cos(angle), -np.sin(angle), 0], \n",
    "            [np.sin(angle),  np.cos(angle), 0], \n",
    "            [0, 0, 1]\n",
    "        ])\n",
    "    A_theta_thilda = A_theta[:-1, :-1]\n",
    "    A_theta_thilda_inverse = np.linalg.inv(A_theta_thilda)\n",
    "    return A_theta_thilda_inverse\n",
    "\n",
    "def Rotation_Matrix_Center(x, y, angle):\n",
    "    \"\"\"\n",
    "    Rotation Matrix with Centers\n",
    "    \n",
    "    Parameters:\n",
    "        x(int) - x coordinate\n",
    "        y(int) - y coordinate\n",
    "        angle(float) - angle with radians\n",
    "        \n",
    "    Returns:\n",
    "        matrix(transformed matrix)\n",
    "    \"\"\"\n",
    "    move_matrix = np.array(\n",
    "        [\n",
    "            [1, 0, x], \n",
    "            [0, 1, y], \n",
    "            [0, 0, 1]\n",
    "        ])\n",
    "    rotation_matrix = np.array(\n",
    "        [\n",
    "            [np.cos(angle), -np.sin(angle), 0], \n",
    "            [np.sin(angle),  np.cos(angle), 0], \n",
    "            [0, 0, 1]\n",
    "        ])\n",
    "    back_matrix = np.array(\n",
    "        [\n",
    "            [1, 0, -x],\n",
    "            [0, 1, -y],\n",
    "            [0, 0, 1]\n",
    "        ])\n",
    "\n",
    "    r = np.dot(move_matrix, rotation_matrix)\n",
    "    return np.dot(r, back_matrix)\n",
    "\n",
    "def Rotation(rotation_matrix, sample, H, W, for_center = False):\n",
    "    \"\"\"\n",
    "    Matrix rotation\n",
    "    \n",
    "    Parameters:\n",
    "        rotation_matrix(matrix) - the output from Rotation_Matrix function\n",
    "        sample(pixel) - the output from Sampling function\n",
    "        H(int) - the height of image\n",
    "        W(int) - the width of image \n",
    "    \n",
    "    Returns:\n",
    "        tuple of floats (transformed pixel)\n",
    "    \"\"\"\n",
    "    if for_center:\n",
    "        return np.multiply([H, W, 1], np.dot(rotation_matrix, sample))\n",
    "    return np.multiply([H, W], np.dot(rotation_matrix, sample))\n",
    "\n",
    "def NN_Interpolate(initial_img, pixel):\n",
    "    \"\"\"\n",
    "    Nearest Neighbor Interpolation\n",
    "    \n",
    "    Parameters:\n",
    "        initial_img(matrix) - initial unchanged image\n",
    "        pixel(tuple or list of 2 elements)\n",
    "        \n",
    "    Return:\n",
    "        list(neighbor or exact pixel from initial image)\n",
    "    \"\"\"\n",
    "    \n",
    "    x_min = 0\n",
    "    y_min = 0\n",
    "    x_max = initial_img.shape[0]\n",
    "    y_max = initial_img.shape[1]\n",
    "    \n",
    "    if pixel[0] > x_max - 1 or pixel[1] > y_max - 1 or x_min > pixel[0] or y_min > pixel[1]:\n",
    "        next\n",
    "    else:\n",
    "        return initial_img[int(pixel[0])][int(pixel[1])]#, (int(pixel[0]), int(pixel[1]))\n",
    "\n",
    "def Image_Rotation(initial_img, rotation_angle):\n",
    "    \"\"\"\n",
    "    Image Rotation\n",
    "    \n",
    "    Parameters:\n",
    "        initial_img(matrix) - initial unchanged image\n",
    "        rotation_angle(float) - angle ith radians\n",
    "        \n",
    "    Returns:\n",
    "        matrix(rotated image)\n",
    "    \"\"\"\n",
    "    \n",
    "    x_max = initial_img.shape[0]\n",
    "    y_max = initial_img.shape[1]\n",
    "\n",
    "    new_image = np.zeros((x_max, y_max), dtype=float)\n",
    "\n",
    "    for y in range(0, y_max):\n",
    "        for x in range(0, x_max):\n",
    "            pixel = Rotation(Rotation_Matrix(rotation_angle), Sampling(initial_img, x, y), x_max, y_max)\n",
    "            new_image[x][y] = NN_Interpolate(initial_img, pixel)\n",
    "    return new_image\n",
    "\n",
    "def Image_Rotation_Center(initial_img, rotation_angle):\n",
    "    \"\"\"\n",
    "    Image Rotation by center\n",
    "    \n",
    "    Parameters:\n",
    "        initial_img(matrix) - initial unchanged image\n",
    "        rotation_angle(float) - angle ith radians\n",
    "        \n",
    "    Returns:\n",
    "        matrix(rotated image)\n",
    "    \"\"\"\n",
    "    \n",
    "    x_max = initial_img.shape[0]\n",
    "    y_max = initial_img.shape[1]\n",
    "\n",
    "    new_image = np.zeros((x_max, y_max), dtype=float)\n",
    "    \n",
    "    rotation_matrix_center = np.linalg.inv(Rotation_Matrix_Center(x_max/2, y_max/2, rotation_angle))\n",
    "\n",
    "    for y in range(0, y_max):\n",
    "        for x in range(0, x_max):\n",
    "            pixel = [x, y, 1]\n",
    "\n",
    "            pixel = np.dot(rotation_matrix_center, pixel)\n",
    "\n",
    "            new_image[x][y] = NN_Interpolate(initial_img, pixel)\n",
    "\n",
    "    return new_image"
   ]
  },
  {
   "cell_type": "code",
   "execution_count": 3,
   "metadata": {
    "scrolled": false
   },
   "outputs": [
    {
     "data": {
      "image/png": "[encoded data removed]",
      "text/plain": [
       "<Figure size 432x288 with 2 Axes>"
      ]
     },
     "metadata": {
      "needs_background": "light"
     },
     "output_type": "display_data"
    }
   ],
   "source": [
    "img=mpimg.imread('inputs/20190912/1.png')\n",
    "\n",
    "plt.subplot(1,2,1)\n",
    "plt.title('Origin image')\n",
    "plt.imshow(img)\n",
    "\n",
    "plt.subplot(1,2,2)\n",
    "plt.title('Transformed image')\n",
    "\n",
    "rotation_angle = 10\n",
    "rotation_angle = np.deg2rad(rotation_angle)\n",
    "\n",
    "roteated = Image_Rotation(img, rotation_angle)\n",
    "\n",
    "plt.imshow(roteated)\n",
    "\n",
    "plt.show();"
   ]
  },
  {
   "cell_type": "code",
   "execution_count": 4,
   "metadata": {},
   "outputs": [
    {
     "data": {
      "image/png": "[encoded data removed]",
      "text/plain": [
       "<Figure size 432x288 with 2 Axes>"
      ]
     },
     "metadata": {
      "needs_background": "light"
     },
     "output_type": "display_data"
    }
   ],
   "source": [
    "plt.subplot(1,2,1)\n",
    "plt.title('Origin image')\n",
    "plt.imshow(img)\n",
    "\n",
    "plt.subplot(1,2,2)\n",
    "plt.title('Transformed image')\n",
    "\n",
    "rotation_angle = 10\n",
    "rotation_angle = np.deg2rad(rotation_angle)\n",
    "\n",
    "roteated = Image_Rotation_Center(img, rotation_angle)\n",
    "\n",
    "plt.imshow(roteated)\n",
    "\n",
    "plt.show();"
   ]
  },
  {
   "cell_type": "markdown",
   "metadata": {},
   "source": [
    " "
   ]
  },
  {
   "cell_type": "markdown",
   "metadata": {},
   "source": [
    " "
   ]
  },
  {
   "cell_type": "markdown",
   "metadata": {},
   "source": [
    "# Another Approach"
   ]
  },
  {
   "cell_type": "code",
   "execution_count": 13,
   "metadata": {},
   "outputs": [],
   "source": [
    "import math\n",
    "def rotation_simple(img, alpha, b = [0, 0]):\n",
    "    A_alpha = np.array(\n",
    "                        [\n",
    "                            [np.cos(alpha), -np.sin(alpha)],\n",
    "                            [np.sin(alpha), np.cos(alpha)]\n",
    "                        ]\n",
    "                    )\n",
    "    A_alpha_inv = np.linalg.inv(A_alpha)\n",
    "    \n",
    "    H, W = img.shape\n",
    "    A_p = np.zeros_like(img)\n",
    "    \n",
    "    for i in range(H):\n",
    "        for j in range(W):\n",
    "            x, y = np.dot(A_alpha_inv, [(2*i + 1)/(2*H) - b[0], (2*j + 1)/(2*W) - b[1]])\n",
    "            x, y = x + b[0], y + b[1]\n",
    "            if 0 <= x <1 and 0 <= y < 1:\n",
    "                A_p[i, j] = img[math.floor(x*H), math.floor(y*W)]\n",
    "    \n",
    "    return A_p"
   ]
  },
  {
   "cell_type": "code",
   "execution_count": 19,
   "metadata": {
    "scrolled": true
   },
   "outputs": [
    {
     "data": {
      "text/plain": [
       "<matplotlib.image.AxesImage at 0x21cc7933160>"
      ]
     },
     "execution_count": 19,
     "metadata": {},
     "output_type": "execute_result"
    },
    {
     "data": {
      "image/png": "[encoded data removed]",
      "text/plain": [
       "<Figure size 432x288 with 1 Axes>"
      ]
     },
     "metadata": {
      "needs_background": "light"
     },
     "output_type": "display_data"
    }
   ],
   "source": [
    "rotation_angle = 10\n",
    "rotation_angle = np.deg2rad(rotation_angle)\n",
    "plt.imshow(rotation_simple(img, rotation_angle, [1/img.shape[0],1/img.shape[1] ]))"
   ]
  }
 ],
 "metadata": {
  "kernelspec": {
   "display_name": "Python 3",
   "language": "python",
   "name": "python3"
  },
  "language_info": {
   "codemirror_mode": {
    "name": "ipython",
    "version": 3
   },
   "file_extension": ".py",
   "mimetype": "text/x-python",
   "name": "python",
   "nbconvert_exporter": "python",
   "pygments_lexer": "ipython3",
   "version": "3.7.3"
  }
 },
 "nbformat": 4,
 "nbformat_minor": 2
}
