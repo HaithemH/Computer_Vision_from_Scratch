{
 "cells": [
  {
   "cell_type": "code",
   "execution_count": 2,
   "metadata": {},
   "outputs": [],
   "source": [
    "import numpy as np\n",
    "from os import listdir, mkdir, sep, path, walk\n",
    "from os.path import join, exists, splitext\n",
    "from scipy.misc import imread, imsave, imresize"
   ]
  },
  {
   "cell_type": "code",
   "execution_count": 3,
   "metadata": {},
   "outputs": [],
   "source": [
    "from matplotlib import pyplot as plt"
   ]
  },
  {
   "cell_type": "code",
   "execution_count": 4,
   "metadata": {},
   "outputs": [],
   "source": [
    "'''\n",
    "Train or make inference the style transfer network\n",
    "'''\n",
    "\n",
    "from __future__ import print_function\n",
    "\n",
    "import tensorflow as tf\n",
    "\n",
    "IS_TRAINING = False\n",
    "\n",
    "# for training\n",
    "TRAINING_CONTENT_DIR = '../../_input/content'\n",
    "TRAINING_STYLE_DIR = '../../_input/style'\n",
    "ENCODER_WEIGHTS_PATH = '../../vgg19_normalised.npz'\n",
    "LOGGING_PERIOD = 20\n",
    "\n",
    "STYLE_WEIGHTS = [3.0]\n",
    "CONTENT_WEIGHTS = [1.0]\n",
    "MODEL_SAVE_PATHS = ['../../models/style_weight_2e0.ckpt']\n",
    "\n",
    "# for inferring (stylize)\n",
    "INFERRING_CONTENT_DIR = '../../_inference/content'\n",
    "INFERRING_STYLE_DIR = '../../_inference/style'\n",
    "OUTPUTS_DIR = '../../_inference/output'\n"
   ]
  },
  {
   "cell_type": "code",
   "execution_count": 5,
   "metadata": {},
   "outputs": [],
   "source": [
    "def list_images(directory):\n",
    "    images = []\n",
    "    for file in listdir(directory):\n",
    "        name = file.lower()\n",
    "        if name.endswith('.png'):\n",
    "            images.append(join(directory, file))\n",
    "        elif name.endswith('.jpg'):\n",
    "            images.append(join(directory, file))\n",
    "        elif name.endswith('.jpeg'):\n",
    "            images.append(join(directory, file))\n",
    "    return images"
   ]
  },
  {
   "cell_type": "code",
   "execution_count": 6,
   "metadata": {},
   "outputs": [],
   "source": [
    "content_imgs_path = list_images(INFERRING_CONTENT_DIR)"
   ]
  },
  {
   "cell_type": "code",
   "execution_count": 7,
   "metadata": {},
   "outputs": [
    {
     "data": {
      "text/plain": [
       "['../../_inference/content\\\\brad_pitt.jpg']"
      ]
     },
     "execution_count": 7,
     "metadata": {},
     "output_type": "execute_result"
    }
   ],
   "source": [
    "content_imgs_path"
   ]
  },
  {
   "cell_type": "code",
   "execution_count": 8,
   "metadata": {},
   "outputs": [],
   "source": [
    "def get_images(paths, height=None, width=None):\n",
    "    if isinstance(paths, str):\n",
    "        paths = [paths]\n",
    "\n",
    "    images = []\n",
    "    for path in paths:\n",
    "        image = imread(path, mode='RGB')\n",
    "\n",
    "        if height is not None and width is not None:\n",
    "            image = imresize(image, [height, width], interp='nearest')\n",
    "        \n",
    "        # Escape image with odd shapes (for training)\n",
    "        height = int(image.shape[0] / 2) * 2\n",
    "        width  = int(image.shape[1] / 2) * 2\n",
    "        image  = imresize(image, [height, width], interp='nearest')\n",
    "\n",
    "        images.append(image)\n",
    "\n",
    "    images = np.stack(images, axis=0)\n",
    "\n",
    "    return images"
   ]
  },
  {
   "cell_type": "code",
   "execution_count": 9,
   "metadata": {},
   "outputs": [
    {
     "name": "stderr",
     "output_type": "stream",
     "text": [
      "C:\\ProgramData\\Anaconda3\\lib\\site-packages\\ipykernel_launcher.py:7: DeprecationWarning: `imread` is deprecated!\n",
      "`imread` is deprecated in SciPy 1.0.0, and will be removed in 1.2.0.\n",
      "Use ``imageio.imread`` instead.\n",
      "  import sys\n",
      "C:\\ProgramData\\Anaconda3\\lib\\site-packages\\ipykernel_launcher.py:15: DeprecationWarning: `imresize` is deprecated!\n",
      "`imresize` is deprecated in SciPy 1.0.0, and will be removed in 1.3.0.\n",
      "Use Pillow instead: ``numpy.array(Image.fromarray(arr).resize())``.\n",
      "  from ipykernel import kernelapp as app\n"
     ]
    }
   ],
   "source": [
    "img = get_images(content_imgs_path)"
   ]
  },
  {
   "cell_type": "code",
   "execution_count": 10,
   "metadata": {},
   "outputs": [
    {
     "data": {
      "text/plain": [
       "(1, 1330, 1054, 3)"
      ]
     },
     "execution_count": 10,
     "metadata": {},
     "output_type": "execute_result"
    }
   ],
   "source": [
    "img.shape"
   ]
  },
  {
   "cell_type": "code",
   "execution_count": null,
   "metadata": {},
   "outputs": [],
   "source": []
  },
  {
   "cell_type": "code",
   "execution_count": 26,
   "metadata": {},
   "outputs": [],
   "source": [
    "# plt.imshow(img)"
   ]
  }
 ],
 "metadata": {
  "kernelspec": {
   "display_name": "Python 3",
   "language": "python",
   "name": "python3"
  },
  "language_info": {
   "codemirror_mode": {
    "name": "ipython",
    "version": 3
   },
   "file_extension": ".py",
   "mimetype": "text/x-python",
   "name": "python",
   "nbconvert_exporter": "python",
   "pygments_lexer": "ipython3",
   "version": "3.7.3"
  }
 },
 "nbformat": 4,
 "nbformat_minor": 2
}
