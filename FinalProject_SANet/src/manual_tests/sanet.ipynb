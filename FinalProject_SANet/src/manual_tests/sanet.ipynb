{
 "cells": [
  {
   "cell_type": "code",
   "execution_count": 1,
   "metadata": {},
   "outputs": [],
   "source": [
    "import numpy as np\n",
    "import tensorflow as tf\n",
    "import sys\n",
    "sys.path.insert(1, '../libs')\n",
    "from functions import *\n",
    "from utils import *"
   ]
  },
  {
   "cell_type": "code",
   "execution_count": 7,
   "metadata": {},
   "outputs": [],
   "source": [
    "STYLE_WEIGHTS = [3.0]\n",
    "CONTENT_WEIGHTS = [1.0]\n",
    "MODEL_SAVE_PATHS = ['../../models/style_weight_2e0.ckpt']\n",
    "\n",
    "# for inferring (stylize)\n",
    "INFERRING_CONTENT_DIR = '../../_inference/content'\n",
    "INFERRING_STYLE_DIR = '../../_inference/style'\n",
    "OUTPUTS_DIR = '../../_inference/output'\n",
    "\n",
    "ENCODER_WEIGHTS_PATH = '../../vgg19_normalised.npz'\n",
    "\n",
    "\n",
    "\n",
    "model_save_path = MODEL_SAVE_PATHS\n",
    "\n",
    "content_imgs_path = list_images(INFERRING_CONTENT_DIR)\n",
    "style_imgs_path   = list_images(INFERRING_STYLE_DIR)"
   ]
  },
  {
   "cell_type": "code",
   "execution_count": 9,
   "metadata": {},
   "outputs": [],
   "source": [
    "contents_path = content_imgs_path\n",
    "styles_path = style_imgs_path\n",
    "output_dir = OUTPUTS_DIR\n",
    "encoder_path = ENCODER_WEIGHTS_PATH\n",
    "model_path = model_save_path\n",
    "resize_height=None\n",
    "resize_width=None"
   ]
  },
  {
   "cell_type": "code",
   "execution_count": 14,
   "metadata": {},
   "outputs": [],
   "source": [
    "content = tf.placeholder(tf.float32, shape=(1, None, None, 3), name='content')\n",
    "style   = tf.placeholder(tf.float32, shape=(1, None, None, 3), name='style')"
   ]
  },
  {
   "cell_type": "code",
   "execution_count": 22,
   "metadata": {},
   "outputs": [
    {
     "data": {
      "text/plain": [
       "<tf.Tensor 'Reshape_6:0' shape=(1, ?, ?, 3) dtype=float32>"
      ]
     },
     "execution_count": 22,
     "metadata": {},
     "output_type": "execute_result"
    }
   ],
   "source": [
    "tf.reshape(content, shape=tf.shape(style))"
   ]
  },
  {
   "cell_type": "code",
   "execution_count": 10,
   "metadata": {},
   "outputs": [
    {
     "ename": "NameError",
     "evalue": "name 'STNet' is not defined",
     "output_type": "error",
     "traceback": [
      "\u001b[1;31m---------------------------------------------------------------------------\u001b[0m",
      "\u001b[1;31mNameError\u001b[0m                                 Traceback (most recent call last)",
      "\u001b[1;32m<ipython-input-10-3ec6c0a3ba96>\u001b[0m in \u001b[0;36m<module>\u001b[1;34m\u001b[0m\n\u001b[0;32m     12\u001b[0m \u001b[1;31m#         style   = tf.placeholder(tf.float32, shape=INPUT_SHAPE, name='style')\u001b[0m\u001b[1;33m\u001b[0m\u001b[1;33m\u001b[0m\u001b[1;33m\u001b[0m\u001b[0m\n\u001b[0;32m     13\u001b[0m \u001b[1;33m\u001b[0m\u001b[0m\n\u001b[1;32m---> 14\u001b[1;33m     \u001b[0mstn\u001b[0m \u001b[1;33m=\u001b[0m \u001b[0mSTNet\u001b[0m\u001b[1;33m(\u001b[0m\u001b[0mencoder_path\u001b[0m\u001b[1;33m)\u001b[0m\u001b[1;33m\u001b[0m\u001b[1;33m\u001b[0m\u001b[0m\n\u001b[0m\u001b[0;32m     15\u001b[0m \u001b[1;33m\u001b[0m\u001b[0m\n\u001b[0;32m     16\u001b[0m     \u001b[0moutput_image\u001b[0m \u001b[1;33m=\u001b[0m \u001b[0mstn\u001b[0m\u001b[1;33m.\u001b[0m\u001b[0mtransform\u001b[0m\u001b[1;33m(\u001b[0m\u001b[0mcontent\u001b[0m\u001b[1;33m,\u001b[0m \u001b[0mstyle\u001b[0m\u001b[1;33m)\u001b[0m\u001b[1;33m\u001b[0m\u001b[1;33m\u001b[0m\u001b[0m\n",
      "\u001b[1;31mNameError\u001b[0m: name 'STNet' is not defined"
     ]
    }
   ],
   "source": [
    "if isinstance(contents_path, str):\n",
    "    contents_path = [contents_path]\n",
    "if isinstance(styles_path, str):\n",
    "    styles_path = [styles_path]\n",
    "\n",
    "with tf.Graph().as_default(), tf.Session() as sess:\n",
    "    # build the dataflow graph\n",
    "    content = tf.placeholder(tf.float32, shape=(1, None, None, 3), name='content')\n",
    "    style   = tf.placeholder(tf.float32, shape=(1, None, None, 3), name='style')\n",
    "\n",
    "#         content = tf.placeholder(tf.float32, shape=INPUT_SHAPE, name='content')\n",
    "#         style   = tf.placeholder(tf.float32, shape=INPUT_SHAPE, name='style')\n",
    "\n",
    "    stn = STNet(encoder_path)\n",
    "\n",
    "    output_image = stn.transform(content, style)\n",
    "\n",
    "    sess.run(tf.global_variables_initializer())\n",
    "\n",
    "    # restore the trained model and run the style transferring\n",
    "    saver = tf.train.Saver()\n",
    "    saver.restore(sess, model_path)\n",
    "\n",
    "    outputs = []\n",
    "    for content_path in contents_path:\n",
    "\n",
    "        content_img = get_images(content_path, \n",
    "            height=resize_height, width=resize_width)\n",
    "\n",
    "        for style_path in styles_path:\n",
    "\n",
    "            style_img   = get_images(style_path)\n",
    "\n",
    "            result = sess.run(output_image, \n",
    "                feed_dict={content: content_img, style: style_img})\n",
    "\n",
    "            outputs.append(result[0])\n",
    "\n",
    "save_images(outputs, contents_path, styles_path, output_dir, suffix=suffix)"
   ]
  },
  {
   "cell_type": "code",
   "execution_count": null,
   "metadata": {},
   "outputs": [],
   "source": [
    "class SANet:\n",
    "    '''\n",
    "    Style-Attentional Network learns the mapping \n",
    "    between the content features and the style features \n",
    "    by slightly modifying the self-attention mechanism\n",
    "    '''\n",
    "\n",
    "    def __init__(self, num_filter):\n",
    "        self.num_filter = num_filter\n",
    "\n",
    "    # def map(self, content, style, scope='attention'):\n",
    "    #     with tf.variable_scope(scope, reuse = tf.AUTO_REUSE):\n",
    "    #         f = conv(content, self.num_filter // 8, kernel=1, stride=1, scope='f_conv') # [bs, h, w, c']\n",
    "    #         g = conv(style,   self.num_filter // 8, kernel=1, stride=1, scope='g_conv') # [bs, h, w, c']\n",
    "    #         h = conv(style,   self.num_filter     , kernel=1, stride=1, scope='h_conv') # [bs, h, w, c]\n",
    "\n",
    "    #         # N = h * w\n",
    "    #         s = tf.matmul(hw_flatten(g), hw_flatten(f), transpose_b=True) # # [bs, N, N]\n",
    "\n",
    "    #         attention = tf.nn.softmax(s)  # attention map\n",
    "\n",
    "    #         o = tf.matmul(attention, hw_flatten(h)) # [bs, N, C]\n",
    "    #         # gamma = tf.get_variable(\"gamma\", [1], initializer=tf.constant_initializer(0.0))\n",
    "\n",
    "    #         o = tf.reshape(o, shape=content.shape) # [bs, h, w, C]\n",
    "    #         o = conv(o, self.num_filter, kernel=1, stride=1, scope='attn_conv')\n",
    "\n",
    "    #         # o = gamma * o + content\n",
    "    #         o = o + content\n",
    "\n",
    "    #         return o\n",
    "    def map(self, content, style, scope='attention'):\n",
    "        with tf.variable_scope(scope, reuse = tf.AUTO_REUSE):\n",
    "            f = conv(content, self.num_filter // 8, kernel=1, stride=1, scope='f_conv') # [bs, h, w, c']\n",
    "            g = conv(style,   self.num_filter // 8, kernel=1, stride=1, scope='g_conv') # [bs, h, w, c']\n",
    "            h = conv(style,   self.num_filter     , kernel=1, stride=1, scope='h_conv') # [bs, h, w, c]\n",
    "\n",
    "            s = tf.matmul(g, f, transpose_b=True)\n",
    "\n",
    "            attention = tf.nn.softmax(s)\n",
    "\n",
    "            o = tf.matmul(attention, h)\n",
    " \n",
    "            # o = tf.reshape(o, shape=content.shape)\n",
    "            o = conv(o, self.num_filter, kernel=1, stride=1, scope='attn_conv')\n",
    "\n",
    "            o = o + content\n",
    "\n",
    "            return o"
   ]
  },
  {
   "cell_type": "code",
   "execution_count": null,
   "metadata": {},
   "outputs": [],
   "source": []
  },
  {
   "cell_type": "code",
   "execution_count": null,
   "metadata": {},
   "outputs": [],
   "source": []
  }
 ],
 "metadata": {
  "kernelspec": {
   "display_name": "Python 3",
   "language": "python",
   "name": "python3"
  },
  "language_info": {
   "codemirror_mode": {
    "name": "ipython",
    "version": 3
   },
   "file_extension": ".py",
   "mimetype": "text/x-python",
   "name": "python",
   "nbconvert_exporter": "python",
   "pygments_lexer": "ipython3",
   "version": "3.7.3"
  }
 },
 "nbformat": 4,
 "nbformat_minor": 2
}
