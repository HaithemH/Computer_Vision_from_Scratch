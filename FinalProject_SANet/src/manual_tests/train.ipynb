{
 "cells": [
  {
   "cell_type": "code",
   "execution_count": 5,
   "metadata": {},
   "outputs": [],
   "source": [
    "from __future__ import print_function\n",
    "\n",
    "import numpy as np\n",
    "import tensorflow as tf\n",
    "\n",
    "import sys\n",
    "sys.path.insert(1, '../libs')\n",
    "\n",
    "from stnet import STNet\n",
    "from utils import get_train_images, list_images"
   ]
  },
  {
   "cell_type": "code",
   "execution_count": 2,
   "metadata": {},
   "outputs": [],
   "source": [
    "STYLE_LAYERS  = ('relu1_1', 'relu2_1', 'relu3_1', 'relu4_1', 'relu5_1')\n",
    "\n",
    "TRAINING_IMAGE_SHAPE = (256, 256, 3) # (height, width, color_channels)\n",
    "\n",
    "EPOCHS = 2\n",
    "EPSILON = 1e-5\n",
    "BATCH_SIZE = 8\n",
    "LEARNING_RATE = 1e-4\n",
    "LR_DECAY_RATE = 5e-5\n",
    "DECAY_STEPS = 1.0"
   ]
  },
  {
   "cell_type": "code",
   "execution_count": 6,
   "metadata": {},
   "outputs": [],
   "source": [
    "TRAINING_CONTENT_DIR = '../../_input/content'\n",
    "TRAINING_STYLE_DIR = '../../_input/style'\n",
    "\n",
    "content_imgs_path = list_images(TRAINING_CONTENT_DIR)\n",
    "style_imgs_path   = list_images(TRAINING_STYLE_DIR)"
   ]
  },
  {
   "cell_type": "code",
   "execution_count": 7,
   "metadata": {},
   "outputs": [
    {
     "data": {
      "text/plain": [
       "['../../_input/content\\\\brad_pitt.jpg',\n",
       " '../../_input/content\\\\chicago.jpg',\n",
       " '../../_input/content\\\\karya.jpg',\n",
       " '../../_input/content\\\\lance.jpg',\n",
       " '../../_input/content\\\\stata.jpg']"
      ]
     },
     "execution_count": 7,
     "metadata": {},
     "output_type": "execute_result"
    }
   ],
   "source": [
    "content_imgs_path"
   ]
  },
  {
   "cell_type": "code",
   "execution_count": 9,
   "metadata": {},
   "outputs": [],
   "source": [
    "HEIGHT, WIDTH, CHANNELS = TRAINING_IMAGE_SHAPE\n",
    "INPUT_SHAPE = (BATCH_SIZE, HEIGHT, WIDTH, CHANNELS)\n",
    "\n",
    "content_batch_path = content_imgs_path[:]\n",
    "style_batch_path   = style_imgs_path[:]\n",
    "\n",
    "content_batch = get_train_images(content_batch_path, crop_height=HEIGHT, crop_width=WIDTH)\n",
    "style_batch   = get_train_images(style_batch_path,   crop_height=HEIGHT, crop_width=WIDTH)"
   ]
  },
  {
   "cell_type": "code",
   "execution_count": null,
   "metadata": {},
   "outputs": [],
   "source": []
  }
 ],
 "metadata": {
  "kernelspec": {
   "display_name": "Python 3",
   "language": "python",
   "name": "python3"
  },
  "language_info": {
   "codemirror_mode": {
    "name": "ipython",
    "version": 3
   },
   "file_extension": ".py",
   "mimetype": "text/x-python",
   "name": "python",
   "nbconvert_exporter": "python",
   "pygments_lexer": "ipython3",
   "version": "3.7.3"
  }
 },
 "nbformat": 4,
 "nbformat_minor": 2
}
