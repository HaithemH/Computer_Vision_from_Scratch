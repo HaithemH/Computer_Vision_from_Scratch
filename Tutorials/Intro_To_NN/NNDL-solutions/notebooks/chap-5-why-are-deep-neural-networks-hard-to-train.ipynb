{
 "cells": [
  {
   "cell_type": "markdown",
   "metadata": {},
   "source": [
    "# Chapter 5: Why are deep neural networks hard to train?"
   ]
  },
  {
   "cell_type": "markdown",
   "metadata": {},
   "source": [
    "## The vanishing gradient problem"
   ]
  },
  {
   "cell_type": "markdown",
   "metadata": {},
   "source": [
    "## What's causing the vanishing gradient problem? Unstable gradients in deep neural nets"
   ]
  },
  {
   "cell_type": "markdown",
   "metadata": {},
   "source": [
    "### Exercise 1 ([link](http://neuralnetworksanddeeplearning.com/chap5.html#exercise_255808)): avoiding the unstable gradient problem with a steeper activation function?\n",
    "\n",
    "Using our random weight initialization by a Gaussian with mean $0$ and standard deviation $1$, our weights are \"typically\" the same order of magnitude as $1$ (actually, the mean size is $\\sqrt{\\frac 2 \\pi} \\approx 0.8$).\n",
    "\n",
    "Ideally then, we'd like an activation function whose derivative is as often as possible close to $1$, so the learning speeds of each layer would be similar despite the product of many terms (all close to 1).\n",
    "\n",
    "Such an activation function wouldn't solve the unstable gradient problem (as explained in the paragraph just above this exercise in the book, the product of terms make the situation intrinsically unstable; if for some reason the weights all grow, we'll still have an exploding gradient, and a vanishing gradient if they all decrease). But it would probably help."
   ]
  },
  {
   "cell_type": "markdown",
   "metadata": {},
   "source": [
    "### Problem 1 ([link](http://neuralnetworksanddeeplearning.com/chap5.html#problems_778071)): ranges of weights and activations avoiding the vanishing gradient problem\n",
    "\n",
    "**(1)** Since $\\forall z \\in \\mathbb{R}, \\sigma'(z) \\leq \\frac 1 4$, we can only ever have $|w \\sigma'(wa+b)| \\geq 1$ when $|w| \\geq 4$.\n",
    "\n",
    "**(2)** Since $\\sigma'$ is largest around $0$, we'll get greater intervals with $b = 0$.\n",
    "\n",
    "So we want to solve:\n",
    "\n",
    "\\begin{equation*}\n",
    "    \\begin{aligned}\n",
    "        | w \\sigma'(wa)| \\geq 1 &\\iff \\sigma'(wa) \\geq \\frac{1}{|w|} \\\\\n",
    "        &\\iff \\frac{e^{-wa}}{(1 + e^{-wa})^2} \\geq \\frac{1}{|w|} \\\\\n",
    "        &\\iff 0 \\geq 1 + ( 2 - |w|) e^{-wa} + (e^{-wa})^2\n",
    "    \\end{aligned}\n",
    "\\end{equation*}\n",
    "\n",
    "Let's denote $x = e^{-wa}$.\n",
    "\n",
    "We've got a quadratic inequation: $x^2 + (2 - |w|)x + 1 \\leq 0$.\n",
    "\n",
    "The discriminant of this equation is:\n",
    "\n",
    "$$\\Delta = (2 - |w|)^2 - 4 = |w|(|w| - 4)$$\n",
    "\n",
    "If $|w| > 4$, then $\\Delta > 0$ and we have two distinct real roots that we'll note $r_1$ and $r_2$, $r_1 < r_2$.\n",
    "\n",
    "As the coefficient before $x^2$ is positive, this inequation will be satisfied for $r_1 \\leq x \\leq r_2$.\n",
    "\n",
    "Translating into $a$:\n",
    "\n",
    "\\begin{equation*}\n",
    "    \\begin{aligned}\n",
    "        r_1 \\leq e^{-wa} \\leq r_2 &\\iff \\ln r_1 \\leq -wa \\leq \\ln r_2 \\\\\n",
    "        &\\iff - \\ln r_2 \\leq wa \\leq - \\ln r_1\n",
    "    \\end{aligned}\n",
    "\\end{equation*}\n",
    "\n",
    "If $w > 0$, this is equivalent to:\n",
    "\n",
    "$$- \\frac 1 w \\ln r_2 \\leq a \\leq - \\frac 1 w \\ln r_1$$\n",
    "\n",
    "And so the width of the interval will be:\n",
    "\n",
    "$$\\frac 1 w (-\\ln r_1 + \\ln r_2) = \\frac 1 w \\ln \\frac{r_2}{r_1} = \\frac{1}{|w|} \\ln \\frac{r_2}{r_1}$$\n",
    "\n",
    "If $w < 0$, this is equivalent to:\n",
    "\n",
    "$$- \\frac 1 w \\ln r_1 \\leq a \\leq - \\frac 1 w \\ln r_2$$\n",
    "\n",
    "And so the width of the interval will be:\n",
    "\n",
    "$$- \\frac 1 w (\\ln r_2 - \\ln r_1) = - \\frac 1 w \\ln \\frac{r_2}{r_1} = \\frac{1}{|w|} \\ln \\frac{r_2}{r_1}$$\n",
    "\n",
    "So the width of the interval will always be (again, provided $|w| \\geq 4$ and $b = 0$):\n",
    "\n",
    "$$\\frac{1}{|w|} \\ln \\frac{r_2}{r_1}$$\n",
    "\n",
    "Now we know ([Vieta's formulas](https://en.wikipedia.org/wiki/Vieta%27s_formulas)) that the roots of the quadratic equation $a x^2 + bx + c = 0$ satisfy $r_1 r_2 = \\frac c a$. In our case, $r_1 r_2 = 1$.\n",
    "\n",
    "Therefore, $\\frac{1}{r_1} = r_2$ and $\\frac{r_2}{r_1} = r_2^2$. So the width of our interval can be written:\n",
    "\n",
    "$$\\frac{1}{|w|} \\ln(r_2^2) = \\frac{2}{|w|} \\ln r_2$$\n",
    "\n",
    "All we have to do now is compute $r_2$:\n",
    "\n",
    "\\begin{equation*}\n",
    "    \\begin{aligned}\n",
    "        r_2 &= \\frac{-b + \\sqrt{\\Delta}}{2a} \\\\\n",
    "        &= \\frac{|w| - 2 + \\sqrt{|w|(|w| - 4)}}{2} \\\\\n",
    "        &= \\frac{|w| \\left( 1 + \\sqrt{1 - 4/|w|} \\right)}{2} - 1\n",
    "    \\end{aligned}\n",
    "\\end{equation*}\n",
    "\n",
    "Conclusion: the set of $a$ satisfying $|w\\sigma'(wa+b)| \\geq 1$ can range over an interval no greater in width than\n",
    "\n",
    "$$\\frac{2}{|w|} \\ln\\left( \\frac{|w|(1+\\sqrt{1-4/|w|})}{2}-1\\right)$$\n",
    "\n",
    "**(3)** Let's plot the function (which is a very imprecise, but visual, way of numerically determining a maximum):"
   ]
  },
  {
   "cell_type": "code",
   "execution_count": 2,
   "metadata": {},
   "outputs": [
    {
     "data": {
      "image/png": "[encoded data removed]",
      "text/plain": [
       "<Figure size 432x288 with 1 Axes>"
      ]
     },
     "metadata": {},
     "output_type": "display_data"
    }
   ],
   "source": [
    "import numpy as np\n",
    "import matplotlib.pyplot as plt\n",
    "import math\n",
    "\n",
    "def f(x):\n",
    "    return 2 / x * math.log(x / 2 * (1 + math.sqrt(1 - 4 / x)) - 1)\n",
    "\n",
    "X = np.arange(4.0, 14.0, 0.05)\n",
    "Y = np.array([f(x) for x in X])\n",
    "\n",
    "plt.plot(X, Y)\n",
    "plt.show()"
   ]
  },
  {
   "cell_type": "markdown",
   "metadata": {},
   "source": [
    "We see that the maximum is around $|w| = 7$. Being more precise:"
   ]
  },
  {
   "cell_type": "code",
   "execution_count": 3,
   "metadata": {},
   "outputs": [
    {
     "data": {
      "image/png": "[encoded data removed]",
      "text/plain": [
       "<Figure size 432x288 with 1 Axes>"
      ]
     },
     "metadata": {},
     "output_type": "display_data"
    }
   ],
   "source": [
    "import numpy as np\n",
    "import matplotlib.pyplot as plt\n",
    "import math\n",
    "\n",
    "def f(x):\n",
    "    return 2 / x * math.log(x / 2 * (1 + math.sqrt(1 - 4 / x)) - 1)\n",
    "\n",
    "X = np.arange(6.5, 7.5, 0.01)\n",
    "Y = np.array([f(x) for x in X])\n",
    "\n",
    "plt.plot(X, Y)\n",
    "plt.show()"
   ]
  },
  {
   "cell_type": "markdown",
   "metadata": {},
   "source": [
    "We see that the width is greatest at $|w| \\approx 6.9$, where it takes a value $\\approx 0.45$."
   ]
  },
  {
   "cell_type": "markdown",
   "metadata": {},
   "source": [
    "### Problem 2: constructing an identity neuron\n",
    "\n",
    "**Note:** For this problem, I did not follow Nielsen's hint. The approximation I will construct seems satisfying to me, however I feel there might be a better solution. In particular, another solution might perhaps get arbitrarily close to the identity, which my solution can't do.\n",
    "\n",
    "We start from a regular sigmoid (setting $w_1 = w_2 = 1$, $b = 0$):"
   ]
  },
  {
   "cell_type": "code",
   "execution_count": 4,
   "metadata": {},
   "outputs": [],
   "source": [
    "import numpy as np\n",
    "import matplotlib.pyplot as plt\n",
    "import math\n",
    "\n",
    "def sigmoid(w1, w2, b, x):\n",
    "    return w2 / (1 + math.exp(- w1 * x - b))\n",
    "\n",
    "def plot(w1, w2, b):\n",
    "    # Plot between -3 and 3:\n",
    "    X1 = np.arange(-3.0, 3.0, 0.05)\n",
    "    Y1 = np.array([sigmoid(w1, w2, b, x) for x in X1])\n",
    "    \n",
    "    # Plot between 0 and 1:\n",
    "    X2 = np.arange(0.0, 1.0, 0.01)\n",
    "    Y2 = np.array([sigmoid(w1, w2, b, x) for x in X2])\n",
    "    Ylin = X2  # target function\n",
    "\n",
    "    plt.subplot(1, 2, 1)  # 1 line, 2 columns, position 1\n",
    "    plt.ylim(bottom=0, top=1)\n",
    "    plt.plot(X1, Y1)\n",
    "\n",
    "    plt.subplot(1, 2, 2)\n",
    "    plt.ylim(bottom=0, top=1)\n",
    "    plt.plot(X2, Y2, label=\"sigmoid\")\n",
    "    plt.plot(X2, Ylin, label=\"target\")\n",
    "    plt.legend()\n",
    "\n",
    "    plt.show()"
   ]
  },
  {
   "cell_type": "code",
   "execution_count": 5,
   "metadata": {},
   "outputs": [
    {
     "data": {
      "image/png": "[encoded data removed]",
      "text/plain": [
       "<Figure size 432x288 with 2 Axes>"
      ]
     },
     "metadata": {},
     "output_type": "display_data"
    }
   ],
   "source": [
    "w1 = 1\n",
    "w2 = 1\n",
    "b = 0\n",
    "plot(w1, w2, b)"
   ]
  },
  {
   "cell_type": "markdown",
   "metadata": {},
   "source": [
    "What happens if we impose the following 2 conditions on our final function?\n",
    "\n",
    "* $w_2 \\sigma(0.5 w_1 + b) = 0.5$\n",
    "* $w_2 \\sigma(w_1 + b) = 1$\n",
    "\n",
    "Those conditions mean that the sigmoid approximation of the identity must be exact on abscisses $0.5$ and $1$.\n",
    "\n",
    "In other terms,\n",
    "\n",
    "\\begin{equation}\n",
    "\\frac{w_2}{1 + e^{-0.5 w_1 - b}} = 0.5\n",
    "\\tag{1}\\end{equation}\n",
    "\n",
    "\\begin{equation}\n",
    "\\frac{w_2}{1 + e^{w_1 - b}} = 1\n",
    "\\tag{2}\\end{equation}\n",
    "\n",
    "Dividing (2) by (1) we get:\n",
    "\n",
    "\\begin{equation*}\n",
    "    \\begin{aligned}\n",
    "        2 &= \\frac{1 + e^{-0.5 w_1} e^{-b}}{1 + e^{-w_1}e^{-b}} \\\\\n",
    "        1 + 2 e^{-w_1} e^{-b} &= e^{-0.5 w_1} e^{-b} \\\\\n",
    "        1 &= e^{-b} \\left( e^{-0.5 w_1} - 2 e^{-w_1} \\right)\n",
    "    \\end{aligned}\n",
    "\\end{equation*}\n",
    "\n",
    "Supposing $w_1$ fixed, we obtain:\n",
    "\n",
    "$$b = \\ln \\left( e^{-0.5 w_1} - 2 e^{-w_1} \\right)$$\n",
    "\n",
    "Note that this imposes $\\left( e^{-0.5 w_1} - 2 e^{-w_1} \\right) > 0$, and so $w_1 > 2 \\ln 2 \\approx 1.39$.\n",
    "\n",
    "Now we can deduce $w_2$ using (2):\n",
    "\n",
    "$$w_2 = 1 + e^{- w_1 - b}$$\n",
    "\n",
    "Playing with the parameter $w_1$ gives rather satisfying approximations around $w_1 = 6$."
   ]
  },
  {
   "cell_type": "code",
   "execution_count": 7,
   "metadata": {},
   "outputs": [
    {
     "data": {
      "image/png": "[encoded data removed]",
      "text/plain": [
       "<Figure size 432x288 with 2 Axes>"
      ]
     },
     "metadata": {},
     "output_type": "display_data"
    }
   ],
   "source": [
    "w1 = 6\n",
    "b = math.log(math.exp(- 0.5 * w1) - 2 * math.exp(- w1))\n",
    "w2 = 1 + math.exp(-(w1 + b))\n",
    "plot(w1, w2, b)"
   ]
  },
  {
   "cell_type": "markdown",
   "metadata": {},
   "source": [
    "## Unstable gradients in more complex networks"
   ]
  },
  {
   "cell_type": "markdown",
   "metadata": {},
   "source": [
    "## Other obstacles to deep learning"
   ]
  }
 ],
 "metadata": {
  "kernelspec": {
   "display_name": "Python 3",
   "language": "python",
   "name": "python3"
  },
  "language_info": {
   "codemirror_mode": {
    "name": "ipython",
    "version": 3
   },
   "file_extension": ".py",
   "mimetype": "text/x-python",
   "name": "python",
   "nbconvert_exporter": "python",
   "pygments_lexer": "ipython3",
   "version": "3.7.3"
  }
 },
 "nbformat": 4,
 "nbformat_minor": 2
}
