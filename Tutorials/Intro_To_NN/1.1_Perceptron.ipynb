{
 "cells": [
  {
   "cell_type": "markdown",
   "metadata": {},
   "source": [
    "# <div align=\"center\">Perceptrons</div>\n",
    "---------------------------------------------------------------------\n",
    "\n",
    "you can Find me on Github:\n",
    "> ###### [ GitHub](https://github.com/lev1khachatryan)\n",
    "\n",
    "<img src=\"asset/1.1/main.png\" />"
   ]
  },
  {
   "cell_type": "markdown",
   "metadata": {},
   "source": [
    "It's a type of artificial neuron. Perceptrons were developed in the 1950s and 1960s by the scientist ***Frank Rosenblatt***, inspired by earlier work by Warren McCulloch and Walter Pitts. Today, it's more common to use other models of artificial neurons. In much modern work on neural networks, the main neuron model used is one called the ***sigmoid neuron***. But to understand why sigmoid neurons are defined the way they are, it's worth taking the time to first understand perceptrons.\n",
    "\n",
    "\n",
    "***Perceptron is a single layer neural network and a multi-layer perceptron is called Neural Networks.***\n",
    "\n",
    "Perceptron is a linear classifier (binary). Also, it is used in supervised learning. It helps to classify the given input data. \n",
    "Perceptron is usually used to classify the data into two parts. Therefore, it is also known as a ***Linear Binary Classifier***.\n",
    "\n",
    "\n",
    "So how do perceptrons work? A perceptron takes several binary inputs, x1,x2,…, and produces a single binary output:\n",
    "\n",
    "<img src=\"asset/1.1/1.png\" />\n",
    "\n",
    "In the example shown the perceptron has three inputs, x1,x2,x3. In general it could have more or fewer inputs. Rosenblatt proposed a simple rule to compute the output. He introduced weights, w1,w2,…, real numbers expressing the importance of the respective inputs to the output. The neuron's output, 0 or 1, is determined by whether the weighted sum ***∑j wjxj*** is less than or greater than some threshold value. Just like the weights, the threshold is a real number which is a parameter of the neuron. To put it in more precise algebraic terms:\n",
    "\n",
    "<img src=\"asset/1.1/2.png\" />\n",
    "\n",
    "That's all there is to how a perceptron works!\n",
    "\n",
    "That's the basic mathematical model. A way you can think about the perceptron is that it's a device that makes decisions by weighing up evidence. Let me give an example. It's not a very realistic example, but it's easy to understand, and we'll soon get to more realistic examples. Suppose the weekend is coming up, and you've heard that there's going to be a cheese festival in your city. You like cheese, and are trying to decide whether or not to go to the festival. You might make your decision by weighing up three factors:\n",
    "\n",
    "1. Is the weather good?\n",
    "2. Does your boyfriend or girlfriend want to accompany you?\n",
    "3. Is the festival near public transit? (You don't own a car).\n",
    "\n",
    "We can represent these three factors by corresponding binary variables x1,x2, and x3. For instance, we'd have x1=1 if the weather is good, and x1=0 if the weather is bad. Similarly, x2=1 if your boyfriend or girlfriend wants to go, and x2=0 if not. And similarly again for x3 and public transit.\n",
    "\n",
    "Now, suppose you absolutely adore cheese, so much so that you're happy to go to the festival even if your boyfriend or girlfriend is uninterested and the festival is hard to get to. But perhaps you really loathe bad weather, and there's no way you'd go to the festival if the weather is bad. You can use perceptrons to model this kind of decision-making. One way to do this is to choose a weight w1=6 for the weather, and w2=2 and w3=2 for the other conditions. The larger value of w1 indicates that the weather matters a lot to you, much more than whether your boyfriend or girlfriend joins you, or the nearness of public transit. Finally, suppose you choose a threshold of 5 for the perceptron. With these choices, the perceptron implements the desired decision-making model, outputting 1 whenever the weather is good, and 0 whenever the weather is bad. It makes no difference to the output whether your boyfriend or girlfriend wants to go, or whether public transit is nearby.\n",
    "\n",
    "By varying the weights and the threshold, we can get different models of decision-making. For example, suppose we instead chose a threshold of 3. Then the perceptron would decide that you should go to the festival whenever the weather was good or when both the festival was near public transit and your boyfriend or girlfriend was willing to join you. In other words, it'd be a different model of decision-making. Dropping the threshold means you're more willing to go to the festival."
   ]
  },
  {
   "cell_type": "markdown",
   "metadata": {},
   "source": [
    "Obviously, the perceptron isn't a complete model of human decision-making! But what the example illustrates is how a perceptron can weigh up different kinds of evidence in order to make decisions. And it should seem plausible that a complex network of perceptrons could make quite subtle decisions:\n",
    "\n",
    "<img src=\"asset/1.1/3.png\" />\n",
    "\n",
    "In this network, the first column of perceptrons - what we'll call the first layer of perceptrons - is making three very simple decisions, by weighing the input evidence. What about the perceptrons in the second layer? Each of those perceptrons is making a decision by weighing up the results from the first layer of decision-making. In this way a perceptron in the second layer can make a decision at a more complex and more abstract level than perceptrons in the first layer. And even more complex decisions can be made by the perceptron in the third layer. In this way, a many-layer network of perceptrons can engage in sophisticated decision making.\n",
    "\n",
    "Incidentally, when I defined perceptrons I said that a perceptron has just a single output. In the network above the perceptrons look like they have multiple outputs. In fact, they're still single output. The multiple output arrows are merely a useful way of indicating that the output from a perceptron is being used as the input to several other perceptrons. It's less unwieldy than drawing a single output line which then splits.\n",
    "\n",
    "Let's simplify the way we describe perceptrons. The condition ∑jwjxj>threshold is cumbersome, and we can make two notational changes to simplify it. The first change is to write ∑jwjxj as a dot product, w⋅x≡∑jwjxj, where w and x are vectors whose components are the weights and inputs, respectively. The second change is to move the threshold to the other side of the inequality, and to replace it by what's known as the perceptron's bias, b≡−threshold. Using the bias instead of the threshold, the perceptron rule can be rewritten:\n",
    "\n",
    "<img src=\"asset/1.1/4.png\" />\n",
    "\n",
    "You can think of the bias as a measure of how easy it is to get the perceptron to output a 1. Or to put it in more biological terms, the bias is a measure of how easy it is to get the perceptron to fire. For a perceptron with a really big bias, it's extremely easy for the perceptron to output a 1. But if the bias is very negative, then it's difficult for the perceptron to output a 1. Obviously, introducing the bias is only a small change in how we describe perceptrons, but we'll see later that it leads to further notational simplifications. Because of this, in the remainder of the book we won't use the threshold, we'll always use the bias.\n",
    "\n"
   ]
  },
  {
   "cell_type": "markdown",
   "metadata": {},
   "source": [
    "I've described perceptrons as a method for weighing evidence to make decisions. Another way perceptrons can be used is to compute the elementary logical functions we usually think of as underlying computation, functions such as AND, OR, and NAND. For example, suppose we have a perceptron with two inputs, each with weight −2, and an overall bias of 3. Here's our perceptron:\n",
    "\n",
    "<img src=\"asset/1.1/5.png\" />\n",
    "\n",
    "Then we see that input 00 produces output 1, since (−2)∗0+(−2)∗0+3=3 is positive. Here, I've introduced the ∗ symbol to make the multiplications explicit. Similar calculations show that the inputs 01 and 10 produce output 1. But the input 11 produces output 0, since (−2)∗1+(−2)∗1+3=−1 is negative. And so our perceptron implements a NAND gate!\n",
    "\n",
    "The NAND example shows that we can use perceptrons to compute simple logical functions. In fact, we can use networks of perceptrons to compute any logical function at all. The reason is that the NAND gate is universal for computation, that is, we can build any computation up out of NAND gates. For example, we can use NAND gates to build a circuit which adds two bits, x1 and x2. This requires computing the bitwise sum, x1⊕x2, as well as a carry bit which is set to 1 when both x1 and x2 are 1, i.e., the carry bit is just the bitwise product x1x2:\n",
    "\n",
    "<img src=\"asset/1.1/6.png\" />\n",
    "\n",
    "To get an equivalent network of perceptrons we replace all the NAND gates by perceptrons with two inputs, each with weight −2, and an overall bias of 3. Here's the resulting network. Note that I've moved the perceptron corresponding to the bottom right NAND gate a little, just to make it easier to draw the arrows on the diagram:\n",
    "\n",
    "<img src=\"asset/1.1/7.png\" />\n",
    "\n",
    "One notable aspect of this network of perceptrons is that the output from the leftmost perceptron is used twice as input to the bottommost perceptron. When I defined the perceptron model I didn't say whether this kind of double-output-to-the-same-place was allowed. Actually, it doesn't much matter. If we don't want to allow this kind of thing, then it's possible to simply merge the two lines, into a single connection with a weight of -4 instead of two connections with -2 weights. (If you don't find this obvious, you should stop and prove to yourself that this is equivalent.) With that change, the network looks as follows, with all unmarked weights equal to -2, all biases equal to 3, and a single weight of -4, as marked:\n",
    "\n",
    "<img src=\"asset/1.1/8.png\" />\n",
    "\n",
    "Up to now I've been drawing inputs like x1 and x2 as variables floating to the left of the network of perceptrons. In fact, it's conventional to draw an extra layer of perceptrons - the input layer - to encode the inputs:\n",
    "\n",
    "<img src=\"asset/1.1/9.png\" />\n",
    "\n",
    "This notation for input perceptrons, in which we have an output, but no inputs,\n",
    "\n",
    "<img src=\"asset/1.1/10.png\" />\n",
    "\n",
    "is a shorthand. It doesn't actually mean a perceptron with no inputs. To see this, suppose we did have a perceptron with no inputs. Then the weighted sum ∑jwjxj would always be zero, and so the perceptron would output 1 if b>0, and 0 if b≤0. That is, the perceptron would simply output a fixed value, not the desired value (x1, in the example above). It's better to think of the input perceptrons as not really being perceptrons at all, but rather special units which are simply defined to output the desired values, x1,x2,….\n",
    "\n",
    "The adder example demonstrates how a network of perceptrons can be used to simulate a circuit containing many NAND gates. And because NAND gates are universal for computation, it follows that perceptrons are also universal for computation."
   ]
  },
  {
   "cell_type": "markdown",
   "metadata": {},
   "source": [
    "The ***computational universality*** of perceptrons is simultaneously reassuring and disappointing. It's reassuring because it tells us that networks of perceptrons can be as powerful as any other computing device. But it's also disappointing, because it makes it seem as though perceptrons are merely a new type of NAND gate. That's hardly big news!\n",
    "\n",
    "However, the situation is better than this view suggests. It turns out that we can devise learning algorithms which can automatically tune the weights and biases of a network of artificial neurons. This tuning happens in response to external stimuli, without direct intervention by a programmer. These learning algorithms enable us to use artificial neurons in a way which is radically different to conventional logic gates. Instead of explicitly laying out a circuit of NAND and other gates, our neural networks can simply learn to solve problems, sometimes problems where it would be extremely difficult to directly design a conventional circuit."
   ]
  },
  {
   "cell_type": "markdown",
   "metadata": {},
   "source": [
    "  "
   ]
  },
  {
   "cell_type": "markdown",
   "metadata": {},
   "source": [
    "  "
   ]
  },
  {
   "cell_type": "markdown",
   "metadata": {},
   "source": [
    "  "
   ]
  },
  {
   "cell_type": "markdown",
   "metadata": {},
   "source": [
    "  "
   ]
  },
  {
   "cell_type": "markdown",
   "metadata": {},
   "source": [
    "  "
   ]
  },
  {
   "cell_type": "markdown",
   "metadata": {},
   "source": [
    "  "
   ]
  },
  {
   "cell_type": "markdown",
   "metadata": {},
   "source": [
    "  "
   ]
  },
  {
   "cell_type": "markdown",
   "metadata": {},
   "source": [
    "# <div align=\"center\">Perceptron: Classification algorithm</div>\n",
    "---------------------------------------------------------------------"
   ]
  },
  {
   "cell_type": "markdown",
   "metadata": {},
   "source": [
    "### Define the Problem\n",
    "\n",
    "In the data set we have 150 samples of 3 flowers with 4 features, \"petal length\", \"petal width\", \"sepal length\", and \"sepal width\". Given a sample of features we would like to predict which of the 3 flowers it is. For example, if we know that petal length is 0.3, and sepal length is 0.5 then it must be an Iris-setosa.\n",
    "\n",
    "To make this prediction we will train a Perceptron algrothim.\n",
    "\n",
    "### Prepare and Explore the dataset"
   ]
  },
  {
   "cell_type": "code",
   "execution_count": 1,
   "metadata": {},
   "outputs": [],
   "source": [
    "import numpy as np\n",
    "import pandas as pd"
   ]
  },
  {
   "cell_type": "code",
   "execution_count": 2,
   "metadata": {},
   "outputs": [
    {
     "data": {
      "text/html": [
       "<div>\n",
       "<style scoped>\n",
       "    .dataframe tbody tr th:only-of-type {\n",
       "        vertical-align: middle;\n",
       "    }\n",
       "\n",
       "    .dataframe tbody tr th {\n",
       "        vertical-align: top;\n",
       "    }\n",
       "\n",
       "    .dataframe thead th {\n",
       "        text-align: right;\n",
       "    }\n",
       "</style>\n",
       "<table border=\"1\" class=\"dataframe\">\n",
       "  <thead>\n",
       "    <tr style=\"text-align: right;\">\n",
       "      <th></th>\n",
       "      <th>Id</th>\n",
       "      <th>SepalLengthCm</th>\n",
       "      <th>SepalWidthCm</th>\n",
       "      <th>PetalLengthCm</th>\n",
       "      <th>PetalWidthCm</th>\n",
       "      <th>Species</th>\n",
       "    </tr>\n",
       "  </thead>\n",
       "  <tbody>\n",
       "    <tr>\n",
       "      <th>0</th>\n",
       "      <td>1</td>\n",
       "      <td>5.1</td>\n",
       "      <td>3.5</td>\n",
       "      <td>1.4</td>\n",
       "      <td>0.2</td>\n",
       "      <td>Iris-setosa</td>\n",
       "    </tr>\n",
       "    <tr>\n",
       "      <th>1</th>\n",
       "      <td>2</td>\n",
       "      <td>4.9</td>\n",
       "      <td>3.0</td>\n",
       "      <td>1.4</td>\n",
       "      <td>0.2</td>\n",
       "      <td>Iris-setosa</td>\n",
       "    </tr>\n",
       "    <tr>\n",
       "      <th>2</th>\n",
       "      <td>3</td>\n",
       "      <td>4.7</td>\n",
       "      <td>3.2</td>\n",
       "      <td>1.3</td>\n",
       "      <td>0.2</td>\n",
       "      <td>Iris-setosa</td>\n",
       "    </tr>\n",
       "    <tr>\n",
       "      <th>3</th>\n",
       "      <td>4</td>\n",
       "      <td>4.6</td>\n",
       "      <td>3.1</td>\n",
       "      <td>1.5</td>\n",
       "      <td>0.2</td>\n",
       "      <td>Iris-setosa</td>\n",
       "    </tr>\n",
       "    <tr>\n",
       "      <th>4</th>\n",
       "      <td>5</td>\n",
       "      <td>5.0</td>\n",
       "      <td>3.6</td>\n",
       "      <td>1.4</td>\n",
       "      <td>0.2</td>\n",
       "      <td>Iris-setosa</td>\n",
       "    </tr>\n",
       "  </tbody>\n",
       "</table>\n",
       "</div>"
      ],
      "text/plain": [
       "   Id  SepalLengthCm  SepalWidthCm  PetalLengthCm  PetalWidthCm      Species\n",
       "0   1            5.1           3.5            1.4           0.2  Iris-setosa\n",
       "1   2            4.9           3.0            1.4           0.2  Iris-setosa\n",
       "2   3            4.7           3.2            1.3           0.2  Iris-setosa\n",
       "3   4            4.6           3.1            1.5           0.2  Iris-setosa\n",
       "4   5            5.0           3.6            1.4           0.2  Iris-setosa"
      ]
     },
     "execution_count": 2,
     "metadata": {},
     "output_type": "execute_result"
    }
   ],
   "source": [
    "iris_data = pd.read_csv(\"input/1.1/Iris.csv\")\n",
    "iris_data.head()"
   ]
  },
  {
   "cell_type": "markdown",
   "metadata": {},
   "source": [
    "We will use two features: **sepal length** and **petal length**, to classify two flowers(out of 3) , **Setosa** and **Versicolor**"
   ]
  },
  {
   "cell_type": "code",
   "execution_count": 3,
   "metadata": {},
   "outputs": [],
   "source": [
    "#Restricting data set to two features and two flowers\n",
    "features  = ['SepalLengthCm', 'PetalLengthCm']\n",
    "flowers   = ['Iris-setosa', 'Iris-versicolor']\n",
    "iris_data = iris_data[ features + ['Species']]\n",
    "\n",
    "iris_data = iris_data[iris_data['Species'].isin(flowers)] #only selecting two flowers"
   ]
  },
  {
   "cell_type": "markdown",
   "metadata": {},
   "source": [
    "Next, to assist our algorithm label **Setosa** as '1' to indicate a match, and **Versicolor** as -1"
   ]
  },
  {
   "cell_type": "code",
   "execution_count": 4,
   "metadata": {},
   "outputs": [],
   "source": [
    "iris_data['Classification'] = np.where(iris_data['Species'] == 'Iris-setosa', 1, -1)"
   ]
  },
  {
   "cell_type": "code",
   "execution_count": 5,
   "metadata": {},
   "outputs": [
    {
     "data": {
      "text/html": [
       "<div>\n",
       "<style scoped>\n",
       "    .dataframe tbody tr th:only-of-type {\n",
       "        vertical-align: middle;\n",
       "    }\n",
       "\n",
       "    .dataframe tbody tr th {\n",
       "        vertical-align: top;\n",
       "    }\n",
       "\n",
       "    .dataframe thead th {\n",
       "        text-align: right;\n",
       "    }\n",
       "</style>\n",
       "<table border=\"1\" class=\"dataframe\">\n",
       "  <thead>\n",
       "    <tr style=\"text-align: right;\">\n",
       "      <th></th>\n",
       "      <th>SepalLengthCm</th>\n",
       "      <th>PetalLengthCm</th>\n",
       "      <th>Species</th>\n",
       "      <th>Classification</th>\n",
       "    </tr>\n",
       "  </thead>\n",
       "  <tbody>\n",
       "    <tr>\n",
       "      <th>0</th>\n",
       "      <td>5.1</td>\n",
       "      <td>1.4</td>\n",
       "      <td>Iris-setosa</td>\n",
       "      <td>1</td>\n",
       "    </tr>\n",
       "    <tr>\n",
       "      <th>1</th>\n",
       "      <td>4.9</td>\n",
       "      <td>1.4</td>\n",
       "      <td>Iris-setosa</td>\n",
       "      <td>1</td>\n",
       "    </tr>\n",
       "    <tr>\n",
       "      <th>2</th>\n",
       "      <td>4.7</td>\n",
       "      <td>1.3</td>\n",
       "      <td>Iris-setosa</td>\n",
       "      <td>1</td>\n",
       "    </tr>\n",
       "    <tr>\n",
       "      <th>3</th>\n",
       "      <td>4.6</td>\n",
       "      <td>1.5</td>\n",
       "      <td>Iris-setosa</td>\n",
       "      <td>1</td>\n",
       "    </tr>\n",
       "    <tr>\n",
       "      <th>4</th>\n",
       "      <td>5.0</td>\n",
       "      <td>1.4</td>\n",
       "      <td>Iris-setosa</td>\n",
       "      <td>1</td>\n",
       "    </tr>\n",
       "  </tbody>\n",
       "</table>\n",
       "</div>"
      ],
      "text/plain": [
       "   SepalLengthCm  PetalLengthCm      Species  Classification\n",
       "0            5.1            1.4  Iris-setosa               1\n",
       "1            4.9            1.4  Iris-setosa               1\n",
       "2            4.7            1.3  Iris-setosa               1\n",
       "3            4.6            1.5  Iris-setosa               1\n",
       "4            5.0            1.4  Iris-setosa               1"
      ]
     },
     "execution_count": 5,
     "metadata": {},
     "output_type": "execute_result"
    }
   ],
   "source": [
    "iris_data.head()"
   ]
  },
  {
   "cell_type": "code",
   "execution_count": 14,
   "metadata": {},
   "outputs": [
    {
     "data": {
      "image/png": "[encoded data removed]",
      "text/plain": [
       "<Figure size 432x288 with 1 Axes>"
      ]
     },
     "metadata": {
      "needs_background": "light"
     },
     "output_type": "display_data"
    }
   ],
   "source": [
    "import matplotlib.pyplot as plt\n",
    "setosa     = iris_data[iris_data['Species'] == 'Iris-setosa']\n",
    "versicolor = iris_data[iris_data['Species'] == 'Iris-versicolor']\n",
    "\n",
    "plt.scatter(setosa.SepalLengthCm, \n",
    "            setosa.PetalLengthCm, \n",
    "            color  ='purple',\n",
    "            marker ='o',\n",
    "            label  ='setosa')\n",
    "\n",
    "plt.scatter(versicolor.SepalLengthCm, \n",
    "            versicolor.PetalLengthCm, \n",
    "            color  ='blue',\n",
    "            marker ='x',\n",
    "            label  ='versicolor')\n",
    "\n",
    "plt.xlabel('petal length')\n",
    "plt.ylabel('sepal length')\n",
    "plt.legend(loc='lower right')\n",
    "plt.show();"
   ]
  },
  {
   "cell_type": "markdown",
   "metadata": {},
   "source": [
    "As the plot shows, the two flowers usually fall far apart from each other. If we can find a measure using a combination of **petal length** and **sepal length** then we should be able to classify any of the two flowers. For example, if petal length is 6.5 and sepal length is 4, then its likely a versicolor."
   ]
  },
  {
   "cell_type": "code",
   "execution_count": 7,
   "metadata": {},
   "outputs": [],
   "source": [
    "class Perceptron:\n",
    "    \n",
    "    def __init__(self, learning_rate=0.01, iterations=10):\n",
    "        self.learning_rate = learning_rate\n",
    "        self.iterations    = iterations\n",
    "        \n",
    "        self._weights      = None\n",
    "        self._errors       = []\n",
    "        self._threshold    = 0.0\n",
    "\n",
    "    \n",
    "    def fit(self, training_vector, target_value):\n",
    "        \"\"\"Fit training data\n",
    "        \n",
    "        Parameters\n",
    "        ----------\n",
    "        training_vector : {array-like}, shape = [samples, features]\n",
    "        target_value    : {array-life}, shape = [samples]\n",
    "        \"\"\"\n",
    "        numberOfSamples, numberOfFeatures = training_vector.shape\n",
    "        self._weights = np.zeros(numberOfFeatures)\n",
    "        \n",
    "        for _ in range(self.iterations):\n",
    "            errors = 0\n",
    "            for observation, target in zip(training_vector, target_value):\n",
    "                update          = self.learning_rate * (target - self.predict(observation))\n",
    "                self._weights  += update * observation\n",
    "                self._threshold = update\n",
    "                errors += int(update != 0.0)\n",
    "            self._errors.append(errors)\n",
    "            \n",
    "    def _net_input(self, training_vector):\n",
    "        \"\"\"Calculate net input\"\"\"\n",
    "        return np.dot(training_vector, self._weights)\n",
    "    \n",
    "    def predict(self, training_vector):\n",
    "        \"\"\"Return class label after unit step\n",
    "        Given an array of features, returns an array with \n",
    "        \"\"\"\n",
    "        #This is a confusing line. Explanation: \n",
    "        #np.where will first return indices of elements for which the net input is \n",
    "        #greater than the threshold. It will then mark them with 1 for match,\n",
    "        #or -1 for not a match.\n",
    "        # E.g  INPUT : training_vector = [10,2, -1, -2], threshold = 0\n",
    "        #      RETURN: np.array([1,1,-1,-1])\n",
    "        return np.where(self._net_input(training_vector)>= self._threshold, 1, -1)"
   ]
  },
  {
   "cell_type": "code",
   "execution_count": 8,
   "metadata": {},
   "outputs": [
    {
     "name": "stderr",
     "output_type": "stream",
     "text": [
      "test_fit (__main__.TestPreceptron) ... C:\\ProgramData\\Anaconda3\\lib\\site-packages\\ipykernel_launcher.py:60: FutureWarning: from_items is deprecated. Please use DataFrame.from_dict(dict(items), ...) instead. DataFrame.from_dict(OrderedDict(items)) may be used to preserve the key order.\n",
      "ok\n",
      "test_initialization (__main__.TestPreceptron) ... ok\n",
      "test_net_input (__main__.TestPreceptron) ... ok\n",
      "test_predict (__main__.TestPreceptron) ... C:\\ProgramData\\Anaconda3\\lib\\site-packages\\ipykernel_launcher.py:39: FutureWarning: from_items is deprecated. Please use DataFrame.from_dict(dict(items), ...) instead. DataFrame.from_dict(OrderedDict(items)) may be used to preserve the key order.\n",
      "ok\n",
      "\n",
      "----------------------------------------------------------------------\n",
      "Ran 4 tests in 0.019s\n",
      "\n",
      "OK\n"
     ]
    },
    {
     "data": {
      "text/plain": [
       "<unittest.runner.TextTestResult run=4 errors=0 failures=0>"
      ]
     },
     "execution_count": 8,
     "metadata": {},
     "output_type": "execute_result"
    }
   ],
   "source": [
    "#Testing\n",
    "import unittest\n",
    "class TestPreceptron(unittest.TestCase):\n",
    "    \n",
    "    def test_initialization(self):\n",
    "        \n",
    "        a_perceptron = Perceptron(learning_rate=0.5, iterations=10)\n",
    "        self.assertIsNotNone(a_perceptron)\n",
    "        self.assertEqual    (a_perceptron.learning_rate, 0.5)\n",
    "        self.assertEqual    (a_perceptron.iterations   ,  10)\n",
    "    \n",
    "    def test_net_input(self):\n",
    "         \n",
    "        a_perceptron    = Perceptron()\n",
    "        training_vector = pd.DataFrame({'feature1':[1,1], \n",
    "                                        'feature2':[0,1]})\n",
    "        a_perceptron._weights = [0,1]\n",
    "        self.assertTrue(np.array_equal(\n",
    "                        a_perceptron._net_input(training_vector), \n",
    "                        [0,1]))\n",
    "            \n",
    "        a_perceptron._weights = [2,2]\n",
    "        self.assertTrue(np.array_equal(\n",
    "                        a_perceptron._net_input(training_vector), \n",
    "                        [2,4]))\n",
    "        \n",
    "    def test_predict(self):\n",
    "        \n",
    "        a_perceptron    = Perceptron()\n",
    "        \n",
    "        columns = ['Classification', 'FeatureA', 'FeatureB']\n",
    "        data    = {'obs1': [ 1,0,1],\n",
    "                   'obs2': [ 1,0,1],\n",
    "                   'obs3': [-1,1,0],\n",
    "                   'obs4': [-1,1,0]\n",
    "                   }\n",
    "        training_set = pd.DataFrame.from_items(data.items(),\n",
    "                                               orient='index',\n",
    "                                              columns=columns)\n",
    "        a_perceptron._weights    = [0,1]\n",
    "        a_perceptron._threshold  = 1.0 \n",
    "        #since all the weight is on Feature B the prediction must \n",
    "        #equal the original classification\n",
    "        self.assertTrue(np.array_equal(\n",
    "                         a_perceptron.predict(\n",
    "                         training_set[['FeatureA', 'FeatureB']]),\n",
    "                         training_set['Classification']))\n",
    "        \n",
    "    def test_fit(self):\n",
    "        \n",
    "        a_perceptron = Perceptron()\n",
    "        columns = ['Classification', 'FeatureA', 'FeatureB']\n",
    "        data    = {'obs1': [ 1,0,1],\n",
    "                   'obs2': [ 1,0,1],\n",
    "                   'obs3': [-1,1,0],\n",
    "                   'obs4': [-1,1,0]\n",
    "                   }\n",
    "        training_set = pd.DataFrame.from_items(data.items(),\n",
    "                                               orient='index',\n",
    "                                              columns=columns)\n",
    "        \n",
    "        a_perceptron.fit(training_set[['FeatureA', 'FeatureB']].values, \n",
    "                         training_set['Classification'].values)\n",
    "        \n",
    "        self.assertEqual(a_perceptron.predict([0,10]),[1])\n",
    "        self.assertEqual(a_perceptron.predict([10,0]),[-1])\n",
    "        \n",
    "suite = unittest.TestLoader().loadTestsFromTestCase(TestPreceptron)\n",
    "unittest.TextTestRunner(verbosity=4).run(suite)"
   ]
  },
  {
   "cell_type": "code",
   "execution_count": 9,
   "metadata": {},
   "outputs": [],
   "source": [
    "perceptron        = Perceptron()\n",
    "#take a subset\n",
    "observed_features = iris_data[features]\n",
    "classifications   = iris_data['Classification']"
   ]
  },
  {
   "cell_type": "code",
   "execution_count": 10,
   "metadata": {},
   "outputs": [],
   "source": [
    "perceptron.fit(observed_features.values, classifications.values)"
   ]
  },
  {
   "cell_type": "code",
   "execution_count": 11,
   "metadata": {},
   "outputs": [
    {
     "data": {
      "text/plain": [
       "array(-1)"
      ]
     },
     "execution_count": 11,
     "metadata": {},
     "output_type": "execute_result"
    }
   ],
   "source": [
    "#Now we can use our perceptron to predict future flowers.\n",
    "#let's try for one flower\n",
    "perceptron.predict([5.1, 1.4])\n",
    "perceptron.predict([5.9,4.8])"
   ]
  }
 ],
 "metadata": {
  "kernelspec": {
   "display_name": "Python 3",
   "language": "python",
   "name": "python3"
  },
  "language_info": {
   "codemirror_mode": {
    "name": "ipython",
    "version": 3
   },
   "file_extension": ".py",
   "mimetype": "text/x-python",
   "name": "python",
   "nbconvert_exporter": "python",
   "pygments_lexer": "ipython3",
   "version": "3.7.3"
  }
 },
 "nbformat": 4,
 "nbformat_minor": 2
}
