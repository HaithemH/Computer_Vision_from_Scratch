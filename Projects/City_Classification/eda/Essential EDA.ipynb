{
 "cells": [
  {
   "cell_type": "code",
   "execution_count": 3,
   "metadata": {},
   "outputs": [],
   "source": [
    "import os\n",
    "from os import remove\n",
    "from os import listdir\n",
    "from os.path import join\n",
    "from datetime import datetime\n",
    "from scipy.misc import imread, imresize\n",
    "from PIL import Image\n",
    "import configparser"
   ]
  },
  {
   "cell_type": "code",
   "execution_count": 2,
   "metadata": {},
   "outputs": [],
   "source": [
    "def list_train_images(directory):\n",
    "    \"\"\"\n",
    "    get all images in specified directory\n",
    "    --------------\n",
    "    Parameters:\n",
    "        directory (string) - absolute path of directory from which we want to take images\n",
    "    Returns:\n",
    "        list (all images)\n",
    "    --------------\n",
    "    \"\"\"\n",
    "    subFolderList = []\n",
    "    for x in os.listdir(directory):\n",
    "        if os.path.isdir(directory + '\\\\' + x):\n",
    "            if x != 'test':\n",
    "                subFolderList.append(x)\n",
    "                \n",
    "    all_files = []\n",
    "    for x in subFolderList:\n",
    "        all_files += [directory  + x +'\\\\' + y for y in os.listdir(directory + x)]\n",
    "    return all_files\n",
    "\n",
    "def list_test_images(directory):\n",
    "    \"\"\"\n",
    "    get all images in specified directory\n",
    "    --------------\n",
    "    Parameters:\n",
    "        directory (string) - absolute path of directory from which we want to take images\n",
    "    Returns:\n",
    "        list (all images)\n",
    "    --------------\n",
    "    \"\"\"\n",
    "    images = []\n",
    "    for file in listdir(directory):\n",
    "        images.append(join(directory, file))\n",
    "    return images"
   ]
  },
  {
   "cell_type": "code",
   "execution_count": 16,
   "metadata": {},
   "outputs": [],
   "source": [
    "DATA_DIR_LONDON = 'C:/_Files/MyProjects/CityClassification/data/train/london/'\n",
    "DATA_DIR_YEREVAN = 'C:/_Files/MyProjects/CityClassification/data/train/yerevan/'\n",
    "\n",
    "TEST_DIR = 'C:/_Files/MyProjects/CityClassification/data/test/'"
   ]
  },
  {
   "cell_type": "code",
   "execution_count": 22,
   "metadata": {},
   "outputs": [
    {
     "name": "stdout",
     "output_type": "stream",
     "text": [
      "Number of images in London 76\n",
      "Number of images in Yerevan 70\n"
     ]
    }
   ],
   "source": [
    "print('Number of images in London', len(list_test_images(DATA_DIR_LONDON)))\n",
    "print('Number of images in Yerevan', len(list_test_images(DATA_DIR_YEREVAN)))"
   ]
  },
  {
   "cell_type": "code",
   "execution_count": null,
   "metadata": {},
   "outputs": [],
   "source": []
  },
  {
   "cell_type": "code",
   "execution_count": null,
   "metadata": {},
   "outputs": [],
   "source": []
  },
  {
   "cell_type": "code",
   "execution_count": null,
   "metadata": {},
   "outputs": [],
   "source": []
  },
  {
   "cell_type": "code",
   "execution_count": null,
   "metadata": {},
   "outputs": [],
   "source": []
  },
  {
   "cell_type": "code",
   "execution_count": null,
   "metadata": {},
   "outputs": [],
   "source": []
  }
 ],
 "metadata": {
  "kernelspec": {
   "display_name": "Python 3",
   "language": "python",
   "name": "python3"
  },
  "language_info": {
   "codemirror_mode": {
    "name": "ipython",
    "version": 3
   },
   "file_extension": ".py",
   "mimetype": "text/x-python",
   "name": "python",
   "nbconvert_exporter": "python",
   "pygments_lexer": "ipython3",
   "version": "3.7.3"
  }
 },
 "nbformat": 4,
 "nbformat_minor": 2
}
