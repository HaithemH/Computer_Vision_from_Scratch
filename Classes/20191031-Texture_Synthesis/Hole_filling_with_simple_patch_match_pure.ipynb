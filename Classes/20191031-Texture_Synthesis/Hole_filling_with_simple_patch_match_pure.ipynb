{
 "cells": [
  {
   "cell_type": "markdown",
   "metadata": {},
   "source": [
    "# Hole Filling Using Patch-Matching Algorithm"
   ]
  },
  {
   "cell_type": "markdown",
   "metadata": {},
   "source": [
    "### The formulation of the problem.\n",
    "\n",
    "Let we have an image $I\\in\\mathbb{R}^{H\\times W\\times 3}$ and a binary mask $M\\in \\{0,1\\}^{H\\times W}$. Suppose the pixels of $I$ which are marked by $1$ in the binary mask $M$ are unknown, i.e. we do not know the values $I_{ij}$ for every $i,j$ shuch that $M_{ij} = 1$ (and also we know all the values $I_{ij}$ for every $i,j$ such that $M_{ij}=0$).\n",
    "\n",
    "The problem is $\\textbf{to estimate the unknown values of}$ $I$."
   ]
  },
  {
   "cell_type": "markdown",
   "metadata": {},
   "source": [
    "###  The algorithm description.\n",
    "- dilate the binary mask $M$ in order to get the area, from which we need to pick the pixels to fill the hole. The obtained binary mask let's denote by $M_{dil}$\n",
    "- obtain such binary mask $M_{get}$ that $M_{get}(i,j) = 0 \\Longleftrightarrow M(i,j)=0 \\; \\mbox{and} \\; M_{dil}(i,j) = 1$\n",
    "- for each scale (s = S, S-1, S-2, ..., 1)\n",
    "    - downscale the image $I$, the mask $M$ and the mask $M_{get}$ to the size $\\frac{H}{2^s}\\times\\frac{W}{2^s}$; let's denote the corresponding downscaled images by $I^s, M^s, M^s_{get}$\n",
    "    - if s equals to S\n",
    "        - fill the hole in $I^s$ (described by the mask $M^s$) with the random values $I^s(i,j)$, where $i,j$ are such coordinates that $M^s_{get}(i,j) = 1$. Upscale the obtained image by the factor $2$ and denote the new image by $I'^{s-1}$.\n",
    "    - else obtain a new $I^s$ as $I^s = M^s \\cdot I'^s + (1 - M^s)\\cdot I^s$ and for each index $(i,j)$ for which $M^s(i,j)=1$\n",
    "        - consider the patch $\\omega(i,j)$ of $I^s$, centered at $(i,j)$\n",
    "        - for some iterations, say $20$\n",
    "            - find the best matching patch $\\omega_{best}$ among all patches centered in such indices $(u,v)$ that $M_{get}(u,v) = 1$ (patch-matching is done with the $l_2$ distance between patches)\n",
    "            - replace the value $I^s(i,j)$ with the center of the patch $\\omega_{best}$\n",
    "        - upscale the obtained image $I^s$ by the factor $2$ and denote the new image by $I'^{s-1}$.\n",
    "- return the image $I^1$"
   ]
  },
  {
   "cell_type": "markdown",
   "metadata": {},
   "source": [
    "#### Let's read the image"
   ]
  },
  {
   "cell_type": "code",
   "execution_count": null,
   "metadata": {},
   "outputs": [],
   "source": [
    "import numpy as np\n",
    "from tqdm import tqdm\n",
    "import cv2\n",
    "import matplotlib.pyplot as plt\n",
    "from tqdm import tqdm"
   ]
  },
  {
   "cell_type": "code",
   "execution_count": null,
   "metadata": {},
   "outputs": [],
   "source": [
    "%matplotlib notebook"
   ]
  },
  {
   "cell_type": "code",
   "execution_count": null,
   "metadata": {},
   "outputs": [],
   "source": [
    "img = cv2.imread('hole_filling.jpg')[:,:,::-1]\n",
    "img = cv2.resize(img, (512, 512))/ 255.\n",
    "plt.imshow(img)"
   ]
  },
  {
   "cell_type": "markdown",
   "metadata": {},
   "source": [
    "#### Let' make a mask to fill"
   ]
  },
  {
   "cell_type": "code",
   "execution_count": null,
   "metadata": {},
   "outputs": [],
   "source": [
    "mask_to_fill = np.zeros_like(img[:,:,0])\n",
    "mask_to_fill[50:100,150:200] = 1.0\n",
    "\n",
    "# visualize the image with hole\n",
    "img_with_hole = img.copy()\n",
    "img_with_hole[np.stack([mask_to_fill]*3, axis = -1) == 1] = 0\n",
    "plt.imshow(img_with_hole)"
   ]
  },
  {
   "cell_type": "markdown",
   "metadata": {},
   "source": [
    "### Now let's proceed with the algorithm described above."
   ]
  },
  {
   "cell_type": "markdown",
   "metadata": {},
   "source": [
    "#### Get dilated mask and the mask $M_{get}$"
   ]
  },
  {
   "cell_type": "code",
   "execution_count": null,
   "metadata": {},
   "outputs": [],
   "source": [
    "dilated_mask = # TODO get dilation of the mask with the window sized (21,21)\n",
    "mask_to_get_patches = # TODO get the mask M_{get}"
   ]
  },
  {
   "cell_type": "markdown",
   "metadata": {},
   "source": [
    "#### The main loop"
   ]
  },
  {
   "cell_type": "markdown",
   "metadata": {},
   "source": [
    "At first let's define the size of the window for patch matching and pad the image with zeros."
   ]
  },
  {
   "cell_type": "code",
   "execution_count": null,
   "metadata": {},
   "outputs": [],
   "source": [
    "kernel_radius = 10\n",
    "kernel_size = 2*kernel_radius + 1\n",
    "\n",
    "img_pad = np.zeros((img.shape[0]+kernel_size-1, img.shape[1]+kernel_size-1, 3))\n",
    "img_pad[kernel_radius:-kernel_radius, kernel_radius:-kernel_radius,:] = img.copy()"
   ]
  },
  {
   "cell_type": "code",
   "execution_count": null,
   "metadata": {},
   "outputs": [],
   "source": [
    "mask_to_get_patches = dilated_mask.copy()"
   ]
  },
  {
   "cell_type": "code",
   "execution_count": null,
   "metadata": {},
   "outputs": [],
   "source": [
    "# I = img_pad.copy()\n",
    "I = img.copy()\n",
    "H, W = img.shape[0], img.shape[1]\n",
    "I = cv2.resize(I, (W//(2**5), H//(2**5)))\n",
    "for s in range(5,1,-1):\n",
    "    I_res = cv2.resize(img, (W//(2**s), H//(2**s)))\n",
    "    M = cv2.resize(mask_to_fill, (W//(2**s), H//(2**s)), interpolation=cv2.INTER_NEAREST)\n",
    "    M = np.stack([M]*3, axis = -1)\n",
    "    M_get = cv2.resize(mask_to_get_patches, (W//(2**s), H//(2**s)), interpolation=cv2.INTER_NEAREST)\n",
    "    M_get = np.stack([M_get]*3, axis = -1)\n",
    "    if s == 5:\n",
    "        I = # TODO fill the hole M randomly from the M_get and upscale I at the end\n",
    "    else:\n",
    "        # TODO define below the main function \"fill_the_hole\"\n",
    "        for _ in range(20):\n",
    "            I = fill_the_hole()"
   ]
  },
  {
   "cell_type": "markdown",
   "metadata": {},
   "source": [
    "Now let's define the main function ```fill_the_hole```"
   ]
  },
  {
   "cell_type": "code",
   "execution_count": null,
   "metadata": {},
   "outputs": [],
   "source": [
    "def fill_the_hole():\n",
    "    pass"
   ]
  }
 ],
 "metadata": {
  "kernelspec": {
   "display_name": "Python 3",
   "language": "python",
   "name": "python3"
  },
  "language_info": {
   "codemirror_mode": {
    "name": "ipython",
    "version": 3
   },
   "file_extension": ".py",
   "mimetype": "text/x-python",
   "name": "python",
   "nbconvert_exporter": "python",
   "pygments_lexer": "ipython3",
   "version": "3.7.3"
  }
 },
 "nbformat": 4,
 "nbformat_minor": 2
}
